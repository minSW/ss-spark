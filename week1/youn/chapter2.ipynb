{
 "cells": [
  {
   "cell_type": "code",
   "execution_count": 1,
   "id": "supreme-original",
   "metadata": {},
   "outputs": [],
   "source": [
    "from pyspark.sql import SparkSession\n",
    "\n",
    "spark = SparkSession.builder.getOrCreate()"
   ]
  },
  {
   "cell_type": "code",
   "execution_count": 2,
   "id": "solar-andrews",
   "metadata": {},
   "outputs": [
    {
     "data": {
      "text/html": [
       "\n",
       "            <div>\n",
       "                <p><b>SparkSession - in-memory</b></p>\n",
       "                \n",
       "        <div>\n",
       "            <p><b>SparkContext</b></p>\n",
       "\n",
       "            <p><a href=\"http://172.30.1.53:4040\">Spark UI</a></p>\n",
       "\n",
       "            <dl>\n",
       "              <dt>Version</dt>\n",
       "                <dd><code>v2.4.7</code></dd>\n",
       "              <dt>Master</dt>\n",
       "                <dd><code>local[*]</code></dd>\n",
       "              <dt>AppName</dt>\n",
       "                <dd><code>pyspark-shell</code></dd>\n",
       "            </dl>\n",
       "        </div>\n",
       "        \n",
       "            </div>\n",
       "        "
      ],
      "text/plain": [
       "<pyspark.sql.session.SparkSession at 0x1106b0550>"
      ]
     },
     "execution_count": 2,
     "metadata": {},
     "output_type": "execute_result"
    }
   ],
   "source": [
    "spark"
   ]
  },
  {
   "cell_type": "code",
   "execution_count": 3,
   "id": "passive-renewal",
   "metadata": {},
   "outputs": [],
   "source": [
    "# read data\n",
    "\n",
    "path = \"data/flight-data/csv/2015-summary.csv\"\n",
    "\n",
    "\"\"\"\n",
    "  data를 읽는 과정이 지연 연산 형태의 트랜스포메이션 이어서,\n",
    "  읽는 시점에는 로우와 컬럼 수를 알 수 없다.\n",
    "  단, 각 컬럼의 데이터 타입을 추론하기 위해\n",
    "  적은 양의 데이터를 읽는다.\n",
    "\"\"\"\n",
    "flightData2015 = spark \\\n",
    "  .read \\\n",
    "  .option(\"inferSchema\", \"true\") \\\n",
    "  .option(\"header\", \"true\") \\\n",
    "  .csv(path)"
   ]
  },
  {
   "cell_type": "code",
   "execution_count": 4,
   "id": "instructional-token",
   "metadata": {},
   "outputs": [
    {
     "data": {
      "text/plain": [
       "[Row(DEST_COUNTRY_NAME='United States', ORIGIN_COUNTRY_NAME='Romania', count=15),\n",
       " Row(DEST_COUNTRY_NAME='United States', ORIGIN_COUNTRY_NAME='Croatia', count=1),\n",
       " Row(DEST_COUNTRY_NAME='United States', ORIGIN_COUNTRY_NAME='Ireland', count=344)]"
      ]
     },
     "execution_count": 4,
     "metadata": {},
     "output_type": "execute_result"
    }
   ],
   "source": [
    "flightData2015.take(3)"
   ]
  },
  {
   "cell_type": "code",
   "execution_count": 5,
   "id": "perceived-latex",
   "metadata": {},
   "outputs": [
    {
     "name": "stdout",
     "output_type": "stream",
     "text": [
      "== Physical Plan ==\n",
      "*(2) Sort [count#12 ASC NULLS FIRST], true, 0\n",
      "+- Exchange rangepartitioning(count#12 ASC NULLS FIRST, 200)\n",
      "   +- *(1) FileScan csv [DEST_COUNTRY_NAME#10,ORIGIN_COUNTRY_NAME#11,count#12] Batched: false, Format: CSV, Location: InMemoryFileIndex[file:/Users/user/Documents/strange-study/ss-spark/week1/youn/data/flight-data/c..., PartitionFilters: [], PushedFilters: [], ReadSchema: struct<DEST_COUNTRY_NAME:string,ORIGIN_COUNTRY_NAME:string,count:int>\n"
     ]
    }
   ],
   "source": [
    "\"\"\"\n",
    "  sort: a wide dependency transfomation.\n",
    "  explain: seeing the dataframe's lineage\n",
    "\"\"\"\n",
    "\n",
    "flightData2015.sort(\"count\").explain()"
   ]
  },
  {
   "cell_type": "code",
   "execution_count": 6,
   "id": "threatened-treaty",
   "metadata": {},
   "outputs": [
    {
     "name": "stdout",
     "output_type": "stream",
     "text": [
      "CPU times: user 2 µs, sys: 1 µs, total: 3 µs\n",
      "Wall time: 3.81 µs\n"
     ]
    }
   ],
   "source": [
    "spark.conf.set(\"spark.sql.shuffle.partitions\", \"5\")\n",
    "\n",
    "flightData2015.sort(\"count\").take(2)\n",
    "\n",
    "%time"
   ]
  },
  {
   "cell_type": "code",
   "execution_count": 7,
   "id": "global-nerve",
   "metadata": {},
   "outputs": [
    {
     "name": "stdout",
     "output_type": "stream",
     "text": [
      "CPU times: user 2 µs, sys: 0 ns, total: 2 µs\n",
      "Wall time: 4.29 µs\n"
     ]
    }
   ],
   "source": [
    "spark.conf.set(\"spark.sql.shuffle.partitions\", \"10\")\n",
    "\n",
    "flightData2015.sort(\"count\").take(2)\n",
    "\n",
    "%time"
   ]
  },
  {
   "cell_type": "code",
   "execution_count": 8,
   "id": "jewish-swing",
   "metadata": {},
   "outputs": [],
   "source": [
    "\"\"\"\n",
    "   스파크는 SQL쿼리를 Dataframe 코드와 같은 실행 계획으로 컴파일 하므로,\n",
    "   둘 사이의 성능 차이는 없다.\n",
    "\"\"\"\n",
    "\n",
    "flightData2015.createOrReplaceTempView(\"flight_data_2015\")"
   ]
  },
  {
   "cell_type": "code",
   "execution_count": 9,
   "id": "excited-shower",
   "metadata": {},
   "outputs": [
    {
     "name": "stdout",
     "output_type": "stream",
     "text": [
      "== Physical Plan ==\n",
      "*(2) HashAggregate(keys=[DEST_COUNTRY_NAME#10], functions=[count(1)])\n",
      "+- Exchange hashpartitioning(DEST_COUNTRY_NAME#10, 10)\n",
      "   +- *(1) HashAggregate(keys=[DEST_COUNTRY_NAME#10], functions=[partial_count(1)])\n",
      "      +- *(1) FileScan csv [DEST_COUNTRY_NAME#10] Batched: false, Format: CSV, Location: InMemoryFileIndex[file:/Users/user/Documents/strange-study/ss-spark/week1/youn/data/flight-data/c..., PartitionFilters: [], PushedFilters: [], ReadSchema: struct<DEST_COUNTRY_NAME:string>\n",
      "== Physical Plan ==\n",
      "*(2) HashAggregate(keys=[DEST_COUNTRY_NAME#10], functions=[count(1)])\n",
      "+- Exchange hashpartitioning(DEST_COUNTRY_NAME#10, 10)\n",
      "   +- *(1) HashAggregate(keys=[DEST_COUNTRY_NAME#10], functions=[partial_count(1)])\n",
      "      +- *(1) FileScan csv [DEST_COUNTRY_NAME#10] Batched: false, Format: CSV, Location: InMemoryFileIndex[file:/Users/user/Documents/strange-study/ss-spark/week1/youn/data/flight-data/c..., PartitionFilters: [], PushedFilters: [], ReadSchema: struct<DEST_COUNTRY_NAME:string>\n"
     ]
    }
   ],
   "source": [
    "sqlWay = spark.sql(\"\"\"\n",
    "SELECT DEST_COUNTRY_NAME, count(1)\n",
    "FROM flight_data_2015\n",
    "GROUP BY DEST_COUNTRY_NAME\n",
    "\"\"\")\n",
    "\n",
    "dataFrameWay = flightData2015 \\\n",
    "  .groupby(\"DEST_COUNTRY_NAME\") \\\n",
    "  .count()\n",
    "\n",
    "sqlWay.explain()\n",
    "dataFrameWay.explain()"
   ]
  },
  {
   "cell_type": "code",
   "execution_count": 10,
   "id": "neutral-protection",
   "metadata": {},
   "outputs": [
    {
     "name": "stdout",
     "output_type": "stream",
     "text": [
      "[Row(max(count)=370002)]\n"
     ]
    },
    {
     "data": {
      "text/plain": [
       "[Row(max(count)=370002)]"
      ]
     },
     "execution_count": 10,
     "metadata": {},
     "output_type": "execute_result"
    }
   ],
   "source": [
    "print(spark.sql(\"SELECT max(count) FROM flight_data_2015\").take(1))\n",
    "\n",
    "\n",
    "from pyspark.sql.functions import max\n",
    "\n",
    "flightData2015.select(max(\"count\")).take(1)"
   ]
  },
  {
   "cell_type": "code",
   "execution_count": 11,
   "id": "revised-behalf",
   "metadata": {},
   "outputs": [
    {
     "name": "stdout",
     "output_type": "stream",
     "text": [
      "== Physical Plan ==\n",
      "TakeOrderedAndProject(limit=5, orderBy=[total_count#56L DESC NULLS LAST], output=[DEST_COUNTRY_NAME#10,total_count#56L])\n",
      "+- *(2) HashAggregate(keys=[DEST_COUNTRY_NAME#10], functions=[sum(cast(count#12 as bigint))])\n",
      "   +- Exchange hashpartitioning(DEST_COUNTRY_NAME#10, 10)\n",
      "      +- *(1) HashAggregate(keys=[DEST_COUNTRY_NAME#10], functions=[partial_sum(cast(count#12 as bigint))])\n",
      "         +- *(1) FileScan csv [DEST_COUNTRY_NAME#10,count#12] Batched: false, Format: CSV, Location: InMemoryFileIndex[file:/Users/user/Documents/strange-study/ss-spark/week1/youn/data/flight-data/c..., PartitionFilters: [], PushedFilters: [], ReadSchema: struct<DEST_COUNTRY_NAME:string,count:int>\n",
      "+-----------------+-----------+\n",
      "|DEST_COUNTRY_NAME|total_count|\n",
      "+-----------------+-----------+\n",
      "|    United States|     411352|\n",
      "|           Canada|       8399|\n",
      "|           Mexico|       7140|\n",
      "|   United Kingdom|       2025|\n",
      "|            Japan|       1548|\n",
      "+-----------------+-----------+\n",
      "\n"
     ]
    }
   ],
   "source": [
    "# 상위 5개 국가를 찾아보자.\n",
    "\n",
    "from pyspark.sql.functions import sum, desc\n",
    "\n",
    "top5 = flightData2015 \\\n",
    "  .groupby(\"DEST_COUNTRY_NAME\") \\\n",
    "  .agg(sum(\"count\").alias(\"total_count\")) \\\n",
    "  .sort(desc(\"total_count\")) \\\n",
    "  .limit(5)\n",
    "\n",
    "top5 \\\n",
    "  .explain()\n",
    "\n",
    "top5.show(5)"
   ]
  },
  {
   "cell_type": "code",
   "execution_count": 12,
   "id": "narrative-friendly",
   "metadata": {},
   "outputs": [
    {
     "name": "stdout",
     "output_type": "stream",
     "text": [
      "== Physical Plan ==\n",
      "TakeOrderedAndProject(limit=5, orderBy=[aggOrder#72L DESC NULLS LAST], output=[DEST_COUNTRY_NAME#10,destination_total#70L])\n",
      "+- *(2) HashAggregate(keys=[DEST_COUNTRY_NAME#10], functions=[sum(cast(count#12 as bigint))])\n",
      "   +- Exchange hashpartitioning(DEST_COUNTRY_NAME#10, 10)\n",
      "      +- *(1) HashAggregate(keys=[DEST_COUNTRY_NAME#10], functions=[partial_sum(cast(count#12 as bigint))])\n",
      "         +- *(1) FileScan csv [DEST_COUNTRY_NAME#10,count#12] Batched: false, Format: CSV, Location: InMemoryFileIndex[file:/Users/user/Documents/strange-study/ss-spark/week1/youn/data/flight-data/c..., PartitionFilters: [], PushedFilters: [], ReadSchema: struct<DEST_COUNTRY_NAME:string,count:int>\n",
      "+-----------------+-----------------+\n",
      "|DEST_COUNTRY_NAME|destination_total|\n",
      "+-----------------+-----------------+\n",
      "|    United States|           411352|\n",
      "|           Canada|             8399|\n",
      "|           Mexico|             7140|\n",
      "|   United Kingdom|             2025|\n",
      "|            Japan|             1548|\n",
      "+-----------------+-----------------+\n",
      "\n"
     ]
    }
   ],
   "source": [
    "maxSql = spark.sql(\"\"\"\n",
    "SELECT DEST_COUNTRY_NAME, sum(count) as destination_total\n",
    "FROM flight_data_2015\n",
    "GROUP BY DEST_COUNTRY_NAME\n",
    "ORDER BY sum(count) DESC\n",
    "LIMIT 5\n",
    "\"\"\")\n",
    "\n",
    "maxSql.explain()\n",
    "maxSql.show()"
   ]
  },
  {
   "cell_type": "code",
   "execution_count": 13,
   "id": "opening-middle",
   "metadata": {},
   "outputs": [
    {
     "name": "stdout",
     "output_type": "stream",
     "text": [
      "== Physical Plan ==\n",
      "TakeOrderedAndProject(limit=5, orderBy=[destination_total#94L DESC NULLS LAST], output=[DEST_COUNTRY_NAME#10,destination_total#94L])\n",
      "+- *(2) HashAggregate(keys=[DEST_COUNTRY_NAME#10], functions=[sum(cast(count#12 as bigint))])\n",
      "   +- Exchange hashpartitioning(DEST_COUNTRY_NAME#10, 10)\n",
      "      +- *(1) HashAggregate(keys=[DEST_COUNTRY_NAME#10], functions=[partial_sum(cast(count#12 as bigint))])\n",
      "         +- *(1) FileScan csv [DEST_COUNTRY_NAME#10,count#12] Batched: false, Format: CSV, Location: InMemoryFileIndex[file:/Users/user/Documents/strange-study/ss-spark/week1/youn/data/flight-data/c..., PartitionFilters: [], PushedFilters: [], ReadSchema: struct<DEST_COUNTRY_NAME:string,count:int>\n"
     ]
    },
    {
     "data": {
      "text/plain": [
       "'\\n  실행계획을 살펴보면, sum이 두 번 발생하는 것을 확인할 수 있는데,\\n  sum이 두 번 발생하는 이유는 \\n  먼저 파티션 별로 합을 구하고, 파티션끼리 합을 구하기 때문이다.\\n  (sum이 commutative를 가지고 있어서라고 설명하는데, \\n  교환 법칙이 성립해서 연산 순서를 변경할 수 있다는 것을 말한다.)\\n'"
      ]
     },
     "execution_count": 13,
     "metadata": {},
     "output_type": "execute_result"
    }
   ],
   "source": [
    "from pyspark.sql.functions import desc\n",
    "\n",
    "flightData2015 \\\n",
    "  .groupBy(\"DEST_COUNTRY_NAME\") \\\n",
    "  .sum(\"count\") \\\n",
    "  .withColumnRenamed(\"sum(count)\", \"destination_total\") \\\n",
    "  .sort(desc(\"destination_total\")) \\\n",
    "  .limit(5) \\\n",
    "  .explain()\n"
   ]
  },
  {
   "cell_type": "code",
   "execution_count": null,
   "id": "employed-citizenship",
   "metadata": {},
   "outputs": [],
   "source": [
    "\"\"\"\n",
    "  실행계획을 살펴보면, sum이 두 번 발생하는 것을 확인할 수 있는데,\n",
    "  sum이 두 번 발생하는 이유는 \n",
    "  먼저 파티션 별로 합을 구하고, 파티션끼리 합을 구하기 때문이다.\n",
    "  (sum이 commutative를 가지고 있어서라고 설명하는데, \n",
    "  교환 법칙이 성립해서 연산 순서를 변경할 수 있다는 것을 말한다.)\n",
    "\"\"\""
   ]
  },
  {
   "cell_type": "code",
   "execution_count": 17,
   "id": "adaptive-wrestling",
   "metadata": {},
   "outputs": [
    {
     "name": "stdout",
     "output_type": "stream",
     "text": [
      "== Physical Plan ==\n",
      "*(7) HashAggregate(keys=[], functions=[sum(id#124L)])\n",
      "+- Exchange SinglePartition\n",
      "   +- *(6) HashAggregate(keys=[], functions=[partial_sum(id#124L)])\n",
      "      +- *(6) Project [id#124L]\n",
      "         +- *(6) SortMergeJoin [id#124L], [id#120L], Inner\n",
      "            :- *(3) Sort [id#124L ASC NULLS FIRST], false, 0\n",
      "            :  +- Exchange hashpartitioning(id#124L, 10)\n",
      "            :     +- *(2) Project [(id#118L * 5) AS id#124L]\n",
      "            :        +- Exchange RoundRobinPartitioning(5)\n",
      "            :           +- *(1) Range (2, 10000000, step=2, splits=12)\n",
      "            +- *(5) Sort [id#120L ASC NULLS FIRST], false, 0\n",
      "               +- Exchange hashpartitioning(id#120L, 10)\n",
      "                  +- Exchange RoundRobinPartitioning(6)\n",
      "                     +- *(4) Range (2, 10000000, step=4, splits=12)\n"
     ]
    }
   ],
   "source": [
    "df1 = spark.range(2, 10000000, 2)\n",
    "df2 = spark.range(2, 10000000, 4)\n",
    "step1 = df1.repartition(5)\n",
    "step12 = df2.repartition(6)\n",
    "step2 = step1.selectExpr(\"id * 5 as id\")\n",
    "step3 = step2.join(step12, [\"id\"])\n",
    "step4 = step3.selectExpr(\"sum(id)\")\n",
    "\n",
    "step4.explain()"
   ]
  },
  {
   "cell_type": "code",
   "execution_count": 16,
   "id": "historical-colors",
   "metadata": {},
   "outputs": [
    {
     "name": "stdout",
     "output_type": "stream",
     "text": [
      "== Physical Plan ==\n",
      "*(7) HashAggregate(keys=[], functions=[sum(id#110L)])\n",
      "+- Exchange SinglePartition\n",
      "   +- *(6) HashAggregate(keys=[], functions=[partial_sum(id#110L)])\n",
      "      +- *(6) Project [id#110L]\n",
      "         +- *(6) SortMergeJoin [id#110L], [id#106L], Inner\n",
      "            :- *(3) Sort [id#110L ASC NULLS FIRST], false, 0\n",
      "            :  +- Exchange hashpartitioning(id#110L, 10)\n",
      "            :     +- *(2) Project [(id#104L * 5) AS id#110L]\n",
      "            :        +- Exchange RoundRobinPartitioning(5)\n",
      "            :           +- *(1) Range (2, 10000000, step=2, splits=12)\n",
      "            +- *(5) Sort [id#106L ASC NULLS FIRST], false, 0\n",
      "               +- Exchange hashpartitioning(id#106L, 10)\n",
      "                  +- Exchange RoundRobinPartitioning(6)\n",
      "                     +- *(4) Range (2, 10000000, step=4, splits=12)\n"
     ]
    }
   ],
   "source": [
    "step4.explain()"
   ]
  },
  {
   "cell_type": "code",
   "execution_count": null,
   "id": "binding-composite",
   "metadata": {},
   "outputs": [],
   "source": []
  }
 ],
 "metadata": {
  "kernelspec": {
   "display_name": "Python 3",
   "language": "python",
   "name": "python3"
  },
  "language_info": {
   "codemirror_mode": {
    "name": "ipython",
    "version": 3
   },
   "file_extension": ".py",
   "mimetype": "text/x-python",
   "name": "python",
   "nbconvert_exporter": "python",
   "pygments_lexer": "ipython3",
   "version": "3.6.8"
  }
 },
 "nbformat": 4,
 "nbformat_minor": 5
}
