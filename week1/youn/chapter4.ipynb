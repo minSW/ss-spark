{
 "cells": [
  {
   "cell_type": "code",
   "execution_count": null,
   "id": "sustained-herald",
   "metadata": {},
   "outputs": [],
   "source": [
    "\"\"\"\n",
    "  Structured APIs refer to three type of distributed collection APIs:\n",
    "    * Datasets\n",
    "    * DataFrames\n",
    "    * SQL tables and views\n",
    "    \n",
    "  Strucured APIs apply to both batch and streaming computation.\n",
    "  \n",
    "\"\"\""
   ]
  },
  {
   "cell_type": "code",
   "execution_count": null,
   "id": "fantastic-survivor",
   "metadata": {},
   "outputs": [],
   "source": [
    "\"\"\"\n",
    "Multiple\n",
    "transformations build up a directed acyclic graph of instructions. An action begins the process of\n",
    "executing that graph of instructions, as a single job, by breaking it down into stages and tasks to\n",
    "execute across the cluster.\n",
    "\"\"\""
   ]
  },
  {
   "cell_type": "code",
   "execution_count": null,
   "id": "collect-iraqi",
   "metadata": {},
   "outputs": [],
   "source": [
    "\"\"\"\n",
    "  DataFrames and Datasets are (distributed) table-like collections\n",
    "  with well-defined rows and columns\n",
    "  \n",
    "  \n",
    "  Each column must have the same number of rows though you can use null.\n",
    "  \n",
    "  * immutable\n",
    "  * lazy evaulation\n",
    "\"\"\""
   ]
  },
  {
   "cell_type": "code",
   "execution_count": 1,
   "id": "lyric-costume",
   "metadata": {},
   "outputs": [],
   "source": [
    "from pyspark.sql import SparkSession\n",
    "\n",
    "spark = SparkSession.builder.getOrCreate()"
   ]
  },
  {
   "cell_type": "code",
   "execution_count": 3,
   "id": "moved-integral",
   "metadata": {},
   "outputs": [
    {
     "data": {
      "text/plain": [
       "[Row(id=0), Row(id=1)]"
      ]
     },
     "execution_count": 3,
     "metadata": {},
     "output_type": "execute_result"
    }
   ],
   "source": [
    "spark.range(2).collect()"
   ]
  },
  {
   "cell_type": "code",
   "execution_count": 5,
   "id": "quiet-answer",
   "metadata": {},
   "outputs": [],
   "source": [
    "from pyspark.sql.types import *\n",
    "b = ByteType()"
   ]
  },
  {
   "cell_type": "code",
   "execution_count": 6,
   "id": "regulation-container",
   "metadata": {},
   "outputs": [
    {
     "data": {
      "text/plain": [
       "ByteType"
      ]
     },
     "execution_count": 6,
     "metadata": {},
     "output_type": "execute_result"
    }
   ],
   "source": [
    "b"
   ]
  },
  {
   "cell_type": "code",
   "execution_count": null,
   "id": "under-pottery",
   "metadata": {},
   "outputs": [],
   "source": []
  }
 ],
 "metadata": {
  "kernelspec": {
   "display_name": "Python 3",
   "language": "python",
   "name": "python3"
  },
  "language_info": {
   "codemirror_mode": {
    "name": "ipython",
    "version": 3
   },
   "file_extension": ".py",
   "mimetype": "text/x-python",
   "name": "python",
   "nbconvert_exporter": "python",
   "pygments_lexer": "ipython3",
   "version": "3.6.8"
  }
 },
 "nbformat": 4,
 "nbformat_minor": 5
}
