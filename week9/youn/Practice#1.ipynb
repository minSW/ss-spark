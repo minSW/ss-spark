{
 "cells": [
  {
   "cell_type": "code",
   "execution_count": 1,
   "id": "subtle-exchange",
   "metadata": {},
   "outputs": [
    {
     "data": {
      "text/html": [
       "<style>.container { width:100% !important; }</style>"
      ],
      "text/plain": [
       "<IPython.core.display.HTML object>"
      ]
     },
     "metadata": {},
     "output_type": "display_data"
    }
   ],
   "source": [
    "from IPython.core.display import display, HTML\n",
    "display(HTML(\"<style>.container { width:100% !important; }</style>\"))"
   ]
  },
  {
   "cell_type": "code",
   "execution_count": 2,
   "id": "entitled-worse",
   "metadata": {},
   "outputs": [],
   "source": [
    "from pyspark.sql import SparkSession\n",
    "from pyspark.sql import functions as F\n",
    "from pyspark.sql import Window\n",
    "from pyspark.sql.types import IntegerType"
   ]
  },
  {
   "cell_type": "code",
   "execution_count": 25,
   "id": "double-decline",
   "metadata": {},
   "outputs": [],
   "source": [
    "spark = SparkSession.builder.getOrCreate()\n",
    "\n",
    "data_path = \"../StudentsPerformance.csv\"\n",
    "df = spark.read.csv(data_path, header=True)\n",
    "\n",
    "print(df.columns)\n",
    "\n",
    "keys = ['gender', 'race/ethnicity', 'parental level of education', 'lunch', 'test preparation course']\n",
    "target = 'math score'\n",
    "\n",
    "df = df \\\n",
    "    .withColumnRenamed(keys[0], keys[0][0]) \\\n",
    "    .withColumnRenamed(keys[1], keys[1][0]) \\\n",
    "    .withColumnRenamed(keys[2], keys[2][0]) \\\n",
    "    .withColumnRenamed(keys[3], keys[3][0]) \\\n",
    "    .withColumnRenamed(keys[4], keys[4][0])\n",
    "keys = list(map(lambda key: key[0], keys))"
   ]
  },
  {
   "cell_type": "code",
   "execution_count": 26,
   "id": "mathematical-trading",
   "metadata": {},
   "outputs": [
    {
     "name": "stdout",
     "output_type": "stream",
     "text": [
      "columns:  ['gender', 'race/ethnicity', 'parental level of education', 'lunch', 'test preparation course', 'math score', 'reading score', 'writing score']\n",
      "# of rows:  1000\n"
     ]
    }
   ],
   "source": [
    "print(\"columns: \", df.columns)\n",
    "print(\"# of rows: \", df.count())\n",
    "\n",
    "df.select('gender').distinct().show(100)\n",
    "df.select('race/ethnicity').distinct().show(100)\n",
    "df.select('parental level of education').distinct().show(100)\n",
    "df.select('lunch').distinct().show(100)\n",
    "df.select('test preparation course').distinct().show(100)\n",
    "\n",
    "df.select(F.isnan('gender'),\n",
    "          F.isnan('race/ethnicity'),\n",
    "          F.isnan('parental level of education'),\n",
    "          F.isnan('lunch'),\n",
    "          F.isnan('test preparation course'))"
   ]
  },
  {
   "cell_type": "code",
   "execution_count": 27,
   "id": "curious-china",
   "metadata": {},
   "outputs": [
    {
     "name": "stdout",
     "output_type": "stream",
     "text": [
      "+------+\n",
      "|gender|\n",
      "+------+\n",
      "|female|\n",
      "|  male|\n",
      "+------+\n",
      "\n",
      "+--------------+\n",
      "|race/ethnicity|\n",
      "+--------------+\n",
      "|       group B|\n",
      "|       group C|\n",
      "|       group D|\n",
      "|       group A|\n",
      "|       group E|\n",
      "+--------------+\n",
      "\n",
      "+---------------------------+\n",
      "|parental level of education|\n",
      "+---------------------------+\n",
      "|           some high school|\n",
      "|         associate's degree|\n",
      "|                high school|\n",
      "|          bachelor's degree|\n",
      "|            master's degree|\n",
      "|               some college|\n",
      "+---------------------------+\n",
      "\n",
      "+------------+\n",
      "|       lunch|\n",
      "+------------+\n",
      "|free/reduced|\n",
      "|    standard|\n",
      "+------------+\n",
      "\n",
      "+-----------------------+\n",
      "|test preparation course|\n",
      "+-----------------------+\n",
      "|              completed|\n",
      "|                   none|\n",
      "+-----------------------+\n",
      "\n"
     ]
    },
    {
     "data": {
      "text/plain": [
       "DataFrame[isnan(gender): boolean, isnan(race/ethnicity): boolean, isnan(parental level of education): boolean, isnan(lunch): boolean, isnan(test preparation course): boolean]"
      ]
     },
     "execution_count": 27,
     "metadata": {},
     "output_type": "execute_result"
    }
   ],
   "source": [
    "agg_df = df.cube(*keys).agg(F.avg(F.col(target)), F.var_pop(F.col(target))) \\\n",
    "   .fillna('All', keys)\n",
    "    \n",
    "agg_df.filter(\"g='female' and r='All' and p='All' and l='All' and t='All'\").show()\n",
    "\n",
    "w = Window.partitionBy(\"g\", \"r\", \"p\", \"l\", \"t\").orderBy('math score')\n",
    "rank_df = df.withColumn(\"rank\", F.rank().over(w))\n",
    "rank_df.orderBy(*keys).show()\n",
    "\n",
    "df.groupBy(*keys).agg(F.avg(target), F.var_pop(target), F.count(F.lit(1))/2) \\\n",
    "  .withColumnRenamed('avg(math score)', 'avg') \\\n",
    "  .withColumnRenamed('var_pop(math score)', 'var') \\\n",
    "  .withColumnRenamed('(count(1) / 2)', 'med_rank_double') \\\n",
    "  .withColumn('med_rank', F.col('med_rank_double').cast(IntegerType())) \\\n",
    "  .join(rank_df, keys, 'left') \\\n",
    "  .filter(\"rank == med_rank\") \\\n",
    "  .select(*keys, 'avg', 'var', 'math score') \\\n",
    "  .orderBy(*keys) \\\n",
    "  .show()\n",
    "\n"
   ]
  },
  {
   "cell_type": "code",
   "execution_count": 29,
   "id": "desperate-parcel",
   "metadata": {},
   "outputs": [
    {
     "name": "stdout",
     "output_type": "stream",
     "text": [
      "+------+\n",
      "|gender|\n",
      "+------+\n",
      "|female|\n",
      "|  male|\n",
      "+------+\n",
      "\n"
     ]
    }
   ],
   "source": [
    "df.select('gender').distinct().show(100)"
   ]
  },
  {
   "cell_type": "code",
   "execution_count": 65,
   "id": "changed-coaching",
   "metadata": {},
   "outputs": [],
   "source": []
  },
  {
   "cell_type": "code",
   "execution_count": 80,
   "id": "norwegian-subscription",
   "metadata": {},
   "outputs": [
    {
     "name": "stdout",
     "output_type": "stream",
     "text": [
      "+------+-------+------------------+------------+---------+----------+-------------+-------------+----+\n",
      "|     g|      r|                 p|           l|        t|math score|reading score|writing score|rank|\n",
      "+------+-------+------------------+------------+---------+----------+-------------+-------------+----+\n",
      "|female|group A|associate's degree|free/reduced|     none|        37|           57|           56|   1|\n",
      "|female|group A|associate's degree|free/reduced|     none|        41|           51|           48|   2|\n",
      "|female|group A|associate's degree|free/reduced|     none|        65|           85|           76|   3|\n",
      "|female|group A|associate's degree|    standard|completed|        55|           65|           62|   1|\n",
      "|female|group A|associate's degree|    standard|completed|        65|           70|           74|   2|\n",
      "|female|group A|associate's degree|    standard|     none|        82|           93|           93|   1|\n",
      "|female|group A| bachelor's degree|    standard|     none|        59|           72|           70|   3|\n",
      "|female|group A| bachelor's degree|    standard|     none|        45|           59|           64|   1|\n",
      "|female|group A| bachelor's degree|    standard|     none|        51|           49|           51|   2|\n",
      "|female|group A|       high school|free/reduced|completed|        77|           88|           85|   3|\n",
      "|female|group A|       high school|free/reduced|completed|        34|           48|           41|   1|\n",
      "|female|group A|       high school|free/reduced|completed|        53|           50|           60|   2|\n",
      "|female|group A|       high school|    standard|completed|        75|           82|           79|   2|\n",
      "|female|group A|       high school|    standard|completed|        68|           80|           76|   1|\n",
      "|female|group A|       high school|    standard|     none|        55|           73|           73|   1|\n",
      "|female|group A|       high school|    standard|     none|        61|           68|           63|   2|\n",
      "|female|group A|   master's degree|free/reduced|     none|        50|           67|           73|   1|\n",
      "|female|group A|   master's degree|    standard|     none|        50|           53|           58|   1|\n",
      "|female|group A|      some college|free/reduced|     none|        61|           60|           57|   2|\n",
      "|female|group A|      some college|free/reduced|     none|        49|           65|           55|   1|\n",
      "+------+-------+------------------+------------+---------+----------+-------------+-------------+----+\n",
      "only showing top 20 rows\n",
      "\n"
     ]
    }
   ],
   "source": []
  },
  {
   "cell_type": "code",
   "execution_count": 79,
   "id": "unsigned-popularity",
   "metadata": {},
   "outputs": [
    {
     "name": "stdout",
     "output_type": "stream",
     "text": [
      "+------+-------+------------------+------------+---------+------------------+------------------+----------+\n",
      "|     g|      r|                 p|           l|        t|               avg|               var|math score|\n",
      "+------+-------+------------------+------------+---------+------------------+------------------+----------+\n",
      "|female|group A|associate's degree|free/reduced|     none|47.666666666666664|152.88888888888889|        37|\n",
      "|female|group A|associate's degree|    standard|completed|              60.0|              25.0|        55|\n",
      "|female|group A| bachelor's degree|    standard|     none|51.666666666666664|32.888888888888886|        45|\n",
      "|female|group A|       high school|free/reduced|completed|54.666666666666664|309.55555555555554|        34|\n",
      "|female|group A|       high school|    standard|completed|              71.5|             12.25|        68|\n",
      "|female|group A|       high school|    standard|     none|              58.0|               9.0|        55|\n",
      "|female|group A|      some college|free/reduced|     none|              55.0|              36.0|        49|\n",
      "|female|group A|      some college|    standard|completed|              75.0|               9.0|        72|\n",
      "|female|group A|      some college|    standard|     none|             59.25|           33.6875|        56|\n",
      "|female|group A|  some high school|free/reduced|     none|              46.4|48.239999999999995|        44|\n",
      "|female|group A|  some high school|free/reduced|     none|              46.4|48.239999999999995|        44|\n",
      "|female|group A|  some high school|    standard|completed| 78.66666666666667|201.55555555555554|        59|\n",
      "|female|group A|  some high school|    standard|     none|              59.5|            132.25|        48|\n",
      "|female|group B|associate's degree|free/reduced|completed|              72.0|              16.0|        68|\n",
      "|female|group B|associate's degree|free/reduced|     none|              51.6| 8.239999999999995|        52|\n",
      "|female|group B|associate's degree|    standard|completed|              71.2|            298.96|        59|\n",
      "|female|group B|associate's degree|    standard|     none| 62.09090909090909|186.08264462809916|        57|\n",
      "|female|group B| bachelor's degree|free/reduced|     none| 76.66666666666667|1.5555555555555556|        75|\n",
      "|female|group B| bachelor's degree|    standard|completed|              65.5|              0.25|        65|\n",
      "|female|group B| bachelor's degree|    standard|     none| 70.66666666666667|194.88888888888889|        67|\n",
      "+------+-------+------------------+------------+---------+------------------+------------------+----------+\n",
      "only showing top 20 rows\n",
      "\n"
     ]
    }
   ],
   "source": []
  },
  {
   "cell_type": "code",
   "execution_count": 34,
   "id": "ahead-amazon",
   "metadata": {},
   "outputs": [
    {
     "name": "stdout",
     "output_type": "stream",
     "text": [
      "+------+---+---+---+---+------------------+-------------------+\n",
      "|     g|  r|  p|  l|  t|   avg(math score)|var_pop(math score)|\n",
      "+------+---+---+---+---+------------------+-------------------+\n",
      "|female|All|All|All|All|63.633204633204635|   239.521831815268|\n",
      "+------+---+---+---+---+------------------+-------------------+\n",
      "\n"
     ]
    }
   ],
   "source": []
  },
  {
   "cell_type": "code",
   "execution_count": 33,
   "id": "palestinian-christopher",
   "metadata": {},
   "outputs": [
    {
     "data": {
      "text/plain": [
       "['g', 'r', 'p', 'l', 't']"
      ]
     },
     "execution_count": 33,
     "metadata": {},
     "output_type": "execute_result"
    }
   ],
   "source": [
    "keys"
   ]
  },
  {
   "cell_type": "code",
   "execution_count": null,
   "id": "latter-music",
   "metadata": {},
   "outputs": [],
   "source": []
  }
 ],
 "metadata": {
  "kernelspec": {
   "display_name": "Python 3",
   "language": "python",
   "name": "python3"
  },
  "language_info": {
   "codemirror_mode": {
    "name": "ipython",
    "version": 3
   },
   "file_extension": ".py",
   "mimetype": "text/x-python",
   "name": "python",
   "nbconvert_exporter": "python",
   "pygments_lexer": "ipython3",
   "version": "3.6.8"
  }
 },
 "nbformat": 4,
 "nbformat_minor": 5
}
